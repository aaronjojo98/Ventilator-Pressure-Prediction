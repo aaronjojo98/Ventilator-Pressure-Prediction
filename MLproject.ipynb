{
  "nbformat": 4,
  "nbformat_minor": 0,
  "metadata": {
    "colab": {
      "name": "MLproject.ipynb",
      "provenance": []
    },
    "kernelspec": {
      "name": "python3",
      "display_name": "Python 3"
    },
    "language_info": {
      "name": "python"
    }
  },
  "cells": [
    {
      "cell_type": "code",
      "execution_count": 1,
      "metadata": {
        "id": "-zashK5md2up",
        "colab": {
          "base_uri": "https://localhost:8080/"
        },
        "outputId": "68c77f8e-1d7e-4e31-8a23-a0e139a67b34"
      },
      "outputs": [
        {
          "output_type": "stream",
          "name": "stderr",
          "text": [
            "/usr/local/lib/python3.7/dist-packages/statsmodels/tools/_testing.py:19: FutureWarning: pandas.util.testing is deprecated. Use the functions in the public API at pandas.testing instead.\n",
            "  import pandas.util.testing as tm\n"
          ]
        },
        {
          "output_type": "stream",
          "name": "stdout",
          "text": [
            "Requirement already satisfied: memory_profiler in /usr/local/lib/python3.7/dist-packages (0.60.0)\n",
            "Requirement already satisfied: psutil in /usr/local/lib/python3.7/dist-packages (from memory_profiler) (5.4.8)\n"
          ]
        }
      ],
      "source": [
        "#Documentation\n",
        "#https://www.kaggle.com/code/animeshhalder/google-brain-ventilator-pressure-prediction\n",
        "#https://machinelearningmastery.com/xgboost-for-regression/\n",
        "#https://www.analyticsvidhya.com/blog/2018/08/k-nearest-neighbor-introduction-regression-python/\n",
        "#https://levelup.gitconnected.com/random-forest-regression-209c0f354c84#:~:text=Random%20Forest%20Regression%20is%20a%20supervised%20learning%20algorithm%20that%20uses,prediction%20than%20a%20single%20model.\n",
        "#https://scikit-learn.org/stable/modules/model_evaluation.html\n",
        "#https://towardsdatascience.com/grid-search-for-model-tuning-3319b259367e\n",
        "#https://machinelearningmastery.com/hyperparameter-optimization-with-random-search-and-grid-search/\n",
        "#https://scikit-learn.org/stable/modules/generated/sklearn.neighbors.KNeighborsRegressor.html\n",
        "#https://scikit-learn.org/stable/modules/generated/sklearn.ensemble.RandomForestRegressor.html\n",
        "import numpy as np\n",
        "import pandas as pd\n",
        "import os\n",
        "import glob\n",
        "import io\n",
        "import seaborn as sns\n",
        "from xgboost import XGBRegressor\n",
        "from google.colab import files\n",
        "from sklearn.model_selection import train_test_split, GridSearchCV\n",
        "from sklearn.pipeline import Pipeline\n",
        "from sklearn.linear_model import LinearRegression, Lasso, LogisticRegression\n",
        "from sklearn import datasets, linear_model\n",
        "from sklearn.preprocessing import StandardScaler\n",
        "from sklearn.metrics import r2_score, mean_squared_error, mean_absolute_error, explained_variance_score\n",
        "from sklearn.impute import SimpleImputer\n",
        "from sklearn.svm import SVR, LinearSVR\n",
        "from sklearn.ensemble import RandomForestRegressor\n",
        "from sklearn.neighbors import KNeighborsRegressor\n",
        "import statsmodels.api as sm\n",
        "import matplotlib.pyplot as plt\n",
        "!pip install memory_profiler\n",
        "%reload_ext memory_profiler\n",
        "\n",
        "np.random.seed(42)\n",
        "sns.set(color_codes=True)"
      ]
    },
    {
      "cell_type": "code",
      "source": [
        "#uploaded = files.upload()"
      ],
      "metadata": {
        "id": "xuN7MM-ChV2v"
      },
      "execution_count": 2,
      "outputs": []
    },
    {
      "cell_type": "code",
      "source": [
        "data=pd.read_csv('vent.csv')\n",
        "print(data)\n",
        "print(data.dtypes)\n",
        "duplicate_rows = data[data.duplicated()]\n",
        "print(\"Number of duplicate rows: \", duplicate_rows.shape)\n",
        "print(data.isnull().sum())"
      ],
      "metadata": {
        "id": "F7XkvsyCeOyH",
        "colab": {
          "base_uri": "https://localhost:8080/"
        },
        "outputId": "4ba89214-b8f2-41ae-d346-aa6694f563b5"
      },
      "execution_count": 3,
      "outputs": [
        {
          "output_type": "stream",
          "name": "stdout",
          "text": [
            "              id  breath_id   R   C  time_step       u_in  u_out   pressure\n",
            "0              1          1  20  50   0.000000   0.083334      0   5.837492\n",
            "1              2          1  20  50   0.033652  18.383041      0   5.907794\n",
            "2              3          1  20  50   0.067514  22.509278      0   7.876254\n",
            "3              4          1  20  50   0.101542  22.808822      0  11.742872\n",
            "4              5          1  20  50   0.135756  25.355850      0  12.234987\n",
            "...          ...        ...  ..  ..        ...        ...    ...        ...\n",
            "6035995  6035996     125749  50  10   2.504603   1.489714      1   3.869032\n",
            "6035996  6035997     125749  50  10   2.537961   1.488497      1   3.869032\n",
            "6035997  6035998     125749  50  10   2.571408   1.558978      1   3.798729\n",
            "6035998  6035999     125749  50  10   2.604744   1.272663      1   4.079938\n",
            "6035999  6036000     125749  50  10   2.638017   1.482739      1   3.869032\n",
            "\n",
            "[6036000 rows x 8 columns]\n",
            "id             int64\n",
            "breath_id      int64\n",
            "R              int64\n",
            "C              int64\n",
            "time_step    float64\n",
            "u_in         float64\n",
            "u_out          int64\n",
            "pressure     float64\n",
            "dtype: object\n",
            "Number of duplicate rows:  (0, 8)\n",
            "id           0\n",
            "breath_id    0\n",
            "R            0\n",
            "C            0\n",
            "time_step    0\n",
            "u_in         0\n",
            "u_out        0\n",
            "pressure     0\n",
            "dtype: int64\n"
          ]
        }
      ]
    },
    {
      "cell_type": "code",
      "source": [
        "data.drop(['id'],axis = 1, inplace = True)\n",
        "print(data)\n"
      ],
      "metadata": {
        "id": "FnrsRMvG_DqO",
        "colab": {
          "base_uri": "https://localhost:8080/"
        },
        "outputId": "816f06a3-12a3-4d6a-cb99-b44766aaef10"
      },
      "execution_count": 4,
      "outputs": [
        {
          "output_type": "stream",
          "name": "stdout",
          "text": [
            "         breath_id   R   C  time_step       u_in  u_out   pressure\n",
            "0                1  20  50   0.000000   0.083334      0   5.837492\n",
            "1                1  20  50   0.033652  18.383041      0   5.907794\n",
            "2                1  20  50   0.067514  22.509278      0   7.876254\n",
            "3                1  20  50   0.101542  22.808822      0  11.742872\n",
            "4                1  20  50   0.135756  25.355850      0  12.234987\n",
            "...            ...  ..  ..        ...        ...    ...        ...\n",
            "6035995     125749  50  10   2.504603   1.489714      1   3.869032\n",
            "6035996     125749  50  10   2.537961   1.488497      1   3.869032\n",
            "6035997     125749  50  10   2.571408   1.558978      1   3.798729\n",
            "6035998     125749  50  10   2.604744   1.272663      1   4.079938\n",
            "6035999     125749  50  10   2.638017   1.482739      1   3.869032\n",
            "\n",
            "[6036000 rows x 7 columns]\n"
          ]
        }
      ]
    },
    {
      "cell_type": "code",
      "source": [
        "sns.boxplot(x=data['breath_id'])\n",
        "plt.show()\n",
        "sns.boxplot(x=data['R'])\n",
        "plt.show()\n",
        "sns.boxplot(x=data['C'])\n",
        "plt.show()\n",
        "sns.boxplot(x=data['time_step'])\n",
        "plt.show()\n",
        "sns.boxplot(x=data['u_in'])\n",
        "plt.show()\n",
        "sns.boxplot(x=data['u_out'])\n",
        "plt.show()\n",
        "plt.figure(figsize=(20,10))\n",
        "c= data.corr()\n",
        "sns.heatmap(c,cmap=\"BrBG\",annot=True)\n",
        "c"
      ],
      "metadata": {
        "id": "9yD6KfDd_V_6",
        "colab": {
          "base_uri": "https://localhost:8080/",
          "height": 1000
        },
        "outputId": "82c37a65-0c2c-4d60-8b3e-ec268ad87487"
      },
      "execution_count": 5,
      "outputs": [
        {
          "output_type": "display_data",
          "data": {
            "text/plain": [
              "<Figure size 432x288 with 1 Axes>"
            ],
            "image/png": "[encoded data removed]"
          },
          "metadata": {
            "needs_background": "light"
          }
        },
        {
          "output_type": "display_data",
          "data": {
            "text/plain": [
              "<Figure size 432x288 with 1 Axes>"
            ],
            "image/png": "[encoded data removed]"
          },
          "metadata": {
            "needs_background": "light"
          }
        },
        {
          "output_type": "display_data",
          "data": {
            "text/plain": [
              "<Figure size 432x288 with 1 Axes>"
            ],
            "image/png": "[encoded data removed]"
          },
          "metadata": {
            "needs_background": "light"
          }
        },
        {
          "output_type": "display_data",
          "data": {
            "text/plain": [
              "<Figure size 432x288 with 1 Axes>"
            ],
            "image/png": "[encoded data removed]"
          },
          "metadata": {
            "needs_background": "light"
          }
        },
        {
          "output_type": "display_data",
          "data": {
            "text/plain": [
              "<Figure size 432x288 with 1 Axes>"
            ],
            "image/png": "[encoded data removed]"
          },
          "metadata": {
            "needs_background": "light"
          }
        },
        {
          "output_type": "display_data",
          "data": {
            "text/plain": [
              "<Figure size 432x288 with 1 Axes>"
            ],
            "image/png": "[encoded data removed]"
          },
          "metadata": {
            "needs_background": "light"
          }
        },
        {
          "output_type": "execute_result",
          "data": {
            "text/plain": [
              "           breath_id         R         C  time_step      u_in     u_out  \\\n",
              "breath_id   1.000000  0.001860  0.007222  -0.000213 -0.002378 -0.000100   \n",
              "R           0.001860  1.000000 -0.096070  -0.014535 -0.148120 -0.007594   \n",
              "C           0.007222 -0.096070  1.000000   0.004936  0.151002  0.003720   \n",
              "time_step  -0.000213 -0.014535  0.004936   1.000000 -0.352276  0.839191   \n",
              "u_in       -0.002378 -0.148120  0.151002  -0.352276  1.000000 -0.416985   \n",
              "u_out      -0.000100 -0.007594  0.003720   0.839191 -0.416985  1.000000   \n",
              "pressure   -0.002394  0.015976 -0.036727  -0.524829  0.308136 -0.614910   \n",
              "\n",
              "           pressure  \n",
              "breath_id -0.002394  \n",
              "R          0.015976  \n",
              "C         -0.036727  \n",
              "time_step -0.524829  \n",
              "u_in       0.308136  \n",
              "u_out     -0.614910  \n",
              "pressure   1.000000  "
            ],
            "text/html": [
              "\n",
              "  <div id=\"df-15784a6d-f02d-4063-9ec7-7f2bd45ed1cf\">\n",
              "    <div class=\"colab-df-container\">\n",
              "      <div>\n",
              "<style scoped>\n",
              "    .dataframe tbody tr th:only-of-type {\n",
              "        vertical-align: middle;\n",
              "    }\n",
              "\n",
              "    .dataframe tbody tr th {\n",
              "        vertical-align: top;\n",
              "    }\n",
              "\n",
              "    .dataframe thead th {\n",
              "        text-align: right;\n",
              "    }\n",
              "</style>\n",
              "<table border=\"1\" class=\"dataframe\">\n",
              "  <thead>\n",
              "    <tr style=\"text-align: right;\">\n",
              "      <th></th>\n",
              "      <th>breath_id</th>\n",
              "      <th>R</th>\n",
              "      <th>C</th>\n",
              "      <th>time_step</th>\n",
              "      <th>u_in</th>\n",
              "      <th>u_out</th>\n",
              "      <th>pressure</th>\n",
              "    </tr>\n",
              "  </thead>\n",
              "  <tbody>\n",
              "    <tr>\n",
              "      <th>breath_id</th>\n",
              "      <td>1.000000</td>\n",
              "      <td>0.001860</td>\n",
              "      <td>0.007222</td>\n",
              "      <td>-0.000213</td>\n",
              "      <td>-0.002378</td>\n",
              "      <td>-0.000100</td>\n",
              "      <td>-0.002394</td>\n",
              "    </tr>\n",
              "    <tr>\n",
              "      <th>R</th>\n",
              "      <td>0.001860</td>\n",
              "      <td>1.000000</td>\n",
              "      <td>-0.096070</td>\n",
              "      <td>-0.014535</td>\n",
              "      <td>-0.148120</td>\n",
              "      <td>-0.007594</td>\n",
              "      <td>0.015976</td>\n",
              "    </tr>\n",
              "    <tr>\n",
              "      <th>C</th>\n",
              "      <td>0.007222</td>\n",
              "      <td>-0.096070</td>\n",
              "      <td>1.000000</td>\n",
              "      <td>0.004936</td>\n",
              "      <td>0.151002</td>\n",
              "      <td>0.003720</td>\n",
              "      <td>-0.036727</td>\n",
              "    </tr>\n",
              "    <tr>\n",
              "      <th>time_step</th>\n",
              "      <td>-0.000213</td>\n",
              "      <td>-0.014535</td>\n",
              "      <td>0.004936</td>\n",
              "      <td>1.000000</td>\n",
              "      <td>-0.352276</td>\n",
              "      <td>0.839191</td>\n",
              "      <td>-0.524829</td>\n",
              "    </tr>\n",
              "    <tr>\n",
              "      <th>u_in</th>\n",
              "      <td>-0.002378</td>\n",
              "      <td>-0.148120</td>\n",
              "      <td>0.151002</td>\n",
              "      <td>-0.352276</td>\n",
              "      <td>1.000000</td>\n",
              "      <td>-0.416985</td>\n",
              "      <td>0.308136</td>\n",
              "    </tr>\n",
              "    <tr>\n",
              "      <th>u_out</th>\n",
              "      <td>-0.000100</td>\n",
              "      <td>-0.007594</td>\n",
              "      <td>0.003720</td>\n",
              "      <td>0.839191</td>\n",
              "      <td>-0.416985</td>\n",
              "      <td>1.000000</td>\n",
              "      <td>-0.614910</td>\n",
              "    </tr>\n",
              "    <tr>\n",
              "      <th>pressure</th>\n",
              "      <td>-0.002394</td>\n",
              "      <td>0.015976</td>\n",
              "      <td>-0.036727</td>\n",
              "      <td>-0.524829</td>\n",
              "      <td>0.308136</td>\n",
              "      <td>-0.614910</td>\n",
              "      <td>1.000000</td>\n",
              "    </tr>\n",
              "  </tbody>\n",
              "</table>\n",
              "</div>\n",
              "      <button class=\"colab-df-convert\" onclick=\"convertToInteractive('df-15784a6d-f02d-4063-9ec7-7f2bd45ed1cf')\"\n",
              "              title=\"Convert this dataframe to an interactive table.\"\n",
              "              style=\"display:none;\">\n",
              "        \n",
              "  <svg xmlns=\"http://www.w3.org/2000/svg\" height=\"24px\"viewBox=\"0 0 24 24\"\n",
              "       width=\"24px\">\n",
              "    <path d=\"M0 0h24v24H0V0z\" fill=\"none\"/>\n",
              "    <path d=\"M18.56 5.44l.94 2.06.94-2.06 2.06-.94-2.06-.94-.94-2.06-.94 2.06-2.06.94zm-11 1L8.5 8.5l.94-2.06 2.06-.94-2.06-.94L8.5 2.5l-.94 2.06-2.06.94zm10 10l.94 2.06.94-2.06 2.06-.94-2.06-.94-.94-2.06-.94 2.06-2.06.94z\"/><path d=\"M17.41 7.96l-1.37-1.37c-.4-.4-.92-.59-1.43-.59-.52 0-1.04.2-1.43.59L10.3 9.45l-7.72 7.72c-.78.78-.78 2.05 0 2.83L4 21.41c.39.39.9.59 1.41.59.51 0 1.02-.2 1.41-.59l7.78-7.78 2.81-2.81c.8-.78.8-2.07 0-2.86zM5.41 20L4 18.59l7.72-7.72 1.47 1.35L5.41 20z\"/>\n",
              "  </svg>\n",
              "      </button>\n",
              "      \n",
              "  <style>\n",
              "    .colab-df-container {\n",
              "      display:flex;\n",
              "      flex-wrap:wrap;\n",
              "      gap: 12px;\n",
              "    }\n",
              "\n",
              "    .colab-df-convert {\n",
              "      background-color: #E8F0FE;\n",
              "      border: none;\n",
              "      border-radius: 50%;\n",
              "      cursor: pointer;\n",
              "      display: none;\n",
              "      fill: #1967D2;\n",
              "      height: 32px;\n",
              "      padding: 0 0 0 0;\n",
              "      width: 32px;\n",
              "    }\n",
              "\n",
              "    .colab-df-convert:hover {\n",
              "      background-color: #E2EBFA;\n",
              "      box-shadow: 0px 1px 2px rgba(60, 64, 67, 0.3), 0px 1px 3px 1px rgba(60, 64, 67, 0.15);\n",
              "      fill: #174EA6;\n",
              "    }\n",
              "\n",
              "    [theme=dark] .colab-df-convert {\n",
              "      background-color: #3B4455;\n",
              "      fill: #D2E3FC;\n",
              "    }\n",
              "\n",
              "    [theme=dark] .colab-df-convert:hover {\n",
              "      background-color: #434B5C;\n",
              "      box-shadow: 0px 1px 3px 1px rgba(0, 0, 0, 0.15);\n",
              "      filter: drop-shadow(0px 1px 2px rgba(0, 0, 0, 0.3));\n",
              "      fill: #FFFFFF;\n",
              "    }\n",
              "  </style>\n",
              "\n",
              "      <script>\n",
              "        const buttonEl =\n",
              "          document.querySelector('#df-15784a6d-f02d-4063-9ec7-7f2bd45ed1cf button.colab-df-convert');\n",
              "        buttonEl.style.display =\n",
              "          google.colab.kernel.accessAllowed ? 'block' : 'none';\n",
              "\n",
              "        async function convertToInteractive(key) {\n",
              "          const element = document.querySelector('#df-15784a6d-f02d-4063-9ec7-7f2bd45ed1cf');\n",
              "          const dataTable =\n",
              "            await google.colab.kernel.invokeFunction('convertToInteractive',\n",
              "                                                     [key], {});\n",
              "          if (!dataTable) return;\n",
              "\n",
              "          const docLinkHtml = 'Like what you see? Visit the ' +\n",
              "            '<a target=\"_blank\" href=https://colab.research.google.com/notebooks/data_table.ipynb>data table notebook</a>'\n",
              "            + ' to learn more about interactive tables.';\n",
              "          element.innerHTML = '';\n",
              "          dataTable['output_type'] = 'display_data';\n",
              "          await google.colab.output.renderOutput(dataTable, element);\n",
              "          const docLink = document.createElement('div');\n",
              "          docLink.innerHTML = docLinkHtml;\n",
              "          element.appendChild(docLink);\n",
              "        }\n",
              "      </script>\n",
              "    </div>\n",
              "  </div>\n",
              "  "
            ]
          },
          "metadata": {},
          "execution_count": 5
        },
        {
          "output_type": "display_data",
          "data": {
            "text/plain": [
              "<Figure size 1440x720 with 2 Axes>"
            ],
            "image/png": "[encoded data removed]"
          },
          "metadata": {
            "needs_background": "light"
          }
        }
      ]
    },
    {
      "cell_type": "code",
      "source": [
        "x = data.drop('pressure',axis = 1)\n",
        "y = data['pressure']\n",
        "%time %memit x_train, x_test, y_train, y_test = train_test_split(x, y, test_size = 0.25,random_state= 42)\n",
        "scalar = StandardScaler()\n",
        "x_train = scalar.fit_transform(x_train)\n",
        "x_test = scalar.transform(x_test)\n"
      ],
      "metadata": {
        "id": "645zPLUgEQAL",
        "colab": {
          "base_uri": "https://localhost:8080/"
        },
        "outputId": "b71dd7e2-fa40-4166-ae6b-a38030627817"
      },
      "execution_count": 6,
      "outputs": [
        {
          "output_type": "stream",
          "name": "stdout",
          "text": [
            "peak memory: 1498.93 MiB, increment: 0.23 MiB\n",
            "CPU times: user 2.3 s, sys: 1.07 s, total: 3.37 s\n",
            "Wall time: 4.64 s\n"
          ]
        }
      ]
    },
    {
      "cell_type": "code",
      "source": [
        "xgb_model=XGBRegressor()\n",
        "%time %memit xgb_model.fit(x_train,y_train)\n",
        "%time %memit xgb_predict=xgb_model.predict(x_test)\n",
        "\n",
        "r2=r2_score(y_test,xgb_predict)\n",
        "mean2_err=mean_squared_error(y_test,xgb_predict)\n",
        "mean_abs_err=mean_absolute_error(y_test,xgb_predict)\n",
        "exp_variance=explained_variance_score(y_test, xgb_predict)\n",
        "print(\"R2 score: \",r2)\n",
        "print(\"Mean Squared Error: \",mean2_err)\n",
        "print(\"Mean Absolute Error: \",mean_abs_err)\n",
        "print(\"Explained Variance Score: \",exp_variance)"
      ],
      "metadata": {
        "id": "Xrms2izBCeCE",
        "colab": {
          "base_uri": "https://localhost:8080/"
        },
        "outputId": "7df18f19-fc16-490b-f3c3-ab650e3b5f26"
      },
      "execution_count": 7,
      "outputs": [
        {
          "output_type": "stream",
          "name": "stdout",
          "text": [
            "[22:57:21] WARNING: /workspace/src/objective/regression_obj.cu:152: reg:linear is now deprecated in favor of reg:squarederror.\n",
            "[22:57:21] WARNING: /workspace/src/learner.cc:686: Tree method is automatically selected to be 'approx' for faster speed. To use old behavior (exact greedy algorithm on single machine), set tree_method to 'exact'.\n",
            "peak memory: 2336.11 MiB, increment: 441.02 MiB\n",
            "CPU times: user 12min 8s, sys: 2.23 s, total: 12min 11s\n",
            "Wall time: 12min 12s\n",
            "peak memory: 2270.66 MiB, increment: 9.79 MiB\n",
            "CPU times: user 4.47 s, sys: 290 ms, total: 4.76 s\n",
            "Wall time: 4.86 s\n",
            "R2 score:  0.6957378379933479\n",
            "Mean Squared Error:  20.006871026051808\n",
            "Mean Absolute Error:  2.46787150430199\n",
            "Explained Variance Score:  0.6957378670993288\n"
          ]
        }
      ]
    },
    {
      "cell_type": "code",
      "source": [
        "rf_model=RandomForestRegressor(n_estimators=10, max_depth=10, random_state=42)\n",
        "%time %memit rf_model.fit(x_train,y_train)\n",
        "%time %memit rf_predict=rf_model.predict(x_test)\n",
        "\n",
        "r22=r2_score(y_test,rf_predict)\n",
        "mean2_err2=mean_squared_error(y_test,rf_predict)\n",
        "mean_abs_err2=mean_absolute_error(y_test,rf_predict)\n",
        "exp_variance2=explained_variance_score(y_test, rf_predict)\n",
        "print(\"R2 score: \",r22)\n",
        "print(\"Mean Squared Error: \",mean2_err2)\n",
        "print(\"Mean Absolute Error: \", mean_abs_err2)\n",
        "print(\"Explained Variance Score: \",exp_variance2)\n"
      ],
      "metadata": {
        "id": "AdvbcUqrljtR",
        "colab": {
          "base_uri": "https://localhost:8080/"
        },
        "outputId": "e24782fc-53d8-4ed1-b3f5-794a6bb7d8b9"
      },
      "execution_count": 8,
      "outputs": [
        {
          "output_type": "stream",
          "name": "stdout",
          "text": [
            "peak memory: 2272.34 MiB, increment: 1.68 MiB\n",
            "CPU times: user 3min 30s, sys: 783 ms, total: 3min 31s\n",
            "Wall time: 3min 30s\n",
            "peak memory: 2272.36 MiB, increment: 0.01 MiB\n",
            "CPU times: user 1.79 s, sys: 172 ms, total: 1.96 s\n",
            "Wall time: 2.08 s\n",
            "R2 score:  0.7459735423327627\n",
            "Mean Squared Error:  16.703603702264207\n",
            "Mean Absolute Error:  2.1016551673431123\n",
            "Explained Variance Score:  0.7459736233971914\n"
          ]
        }
      ]
    },
    {
      "cell_type": "code",
      "source": [
        "knn_model=KNeighborsRegressor()\n",
        "%time %memit knn_model.fit(x_train,y_train)\n",
        "%time %memit knn_predict=knn_model.predict(x_test)\n",
        "\n",
        "r23=r2_score(y_test,knn_predict)\n",
        "mean2_err3=mean_squared_error(y_test,knn_predict)\n",
        "mean_abs_err3=mean_absolute_error(y_test,knn_predict)\n",
        "exp_variance3=explained_variance_score(y_test, knn_predict)\n",
        "print(\"R2 score: \",r23)\n",
        "print(\"Mean Squared Error: \",mean2_err3)\n",
        "print(\"Mean Absolute Error: \", mean_abs_err3)\n",
        "print(\"Explained Variance Score: \",exp_variance3)\n"
      ],
      "metadata": {
        "id": "7c9InicXtCW8",
        "colab": {
          "base_uri": "https://localhost:8080/"
        },
        "outputId": "7b51a814-a380-46df-fa7e-607f5d49157d"
      },
      "execution_count": 9,
      "outputs": [
        {
          "output_type": "stream",
          "name": "stdout",
          "text": [
            "peak memory: 2280.41 MiB, increment: 8.04 MiB\n",
            "CPU times: user 20.2 s, sys: 462 ms, total: 20.7 s\n",
            "Wall time: 20.7 s\n",
            "peak memory: 2337.49 MiB, increment: 57.08 MiB\n",
            "CPU times: user 2min 23s, sys: 367 ms, total: 2min 24s\n",
            "Wall time: 2min 23s\n",
            "R2 score:  0.7022778416284855\n",
            "Mean Squared Error:  19.57683066751637\n",
            "Mean Absolute Error:  2.211979408707695\n",
            "Explained Variance Score:  0.7022992927663496\n"
          ]
        }
      ]
    },
    {
      "cell_type": "code",
      "source": [
        "param_grid = {\n",
        "    \"n_estimators\":[10,20,30],\n",
        "    \"max_depth\":[10,20,30],\n",
        "}\n",
        "rf_model2=RandomForestRegressor()\n",
        "%time %memit rf_model_tuned= GridSearchCV(estimator=rf_model2,param_grid=param_grid,cv=3,verbose=2)\n",
        "%time %memit rf_model_tuned.fit(x_train,y_train)\n",
        "\n",
        "rf_model_tuned.best_estimator_\n"
      ],
      "metadata": {
        "id": "VuP3t1DM6xi8",
        "colab": {
          "base_uri": "https://localhost:8080/"
        },
        "outputId": "9c89e8e1-f4db-4b32-90ef-1e58788e9e3c"
      },
      "execution_count": 10,
      "outputs": [
        {
          "output_type": "stream",
          "name": "stdout",
          "text": [
            "peak memory: 2337.49 MiB, increment: 0.00 MiB\n",
            "CPU times: user 115 ms, sys: 165 ms, total: 280 ms\n",
            "Wall time: 484 ms\n",
            "Fitting 3 folds for each of 9 candidates, totalling 27 fits\n",
            "[CV] END ......................max_depth=10, n_estimators=10; total time= 2.1min\n",
            "[CV] END ......................max_depth=10, n_estimators=10; total time= 2.1min\n",
            "[CV] END ......................max_depth=10, n_estimators=10; total time= 2.1min\n",
            "[CV] END ......................max_depth=10, n_estimators=20; total time= 4.1min\n",
            "[CV] END ......................max_depth=10, n_estimators=20; total time= 4.3min\n",
            "[CV] END ......................max_depth=10, n_estimators=20; total time= 4.2min\n",
            "[CV] END ......................max_depth=10, n_estimators=30; total time= 6.3min\n",
            "[CV] END ......................max_depth=10, n_estimators=30; total time= 6.3min\n",
            "[CV] END ......................max_depth=10, n_estimators=30; total time= 6.1min\n",
            "[CV] END ......................max_depth=20, n_estimators=10; total time= 3.0min\n",
            "[CV] END ......................max_depth=20, n_estimators=10; total time= 3.1min\n",
            "[CV] END ......................max_depth=20, n_estimators=10; total time= 3.2min\n",
            "[CV] END ......................max_depth=20, n_estimators=20; total time= 6.2min\n",
            "[CV] END ......................max_depth=20, n_estimators=20; total time= 6.0min\n",
            "[CV] END ......................max_depth=20, n_estimators=20; total time= 6.0min\n",
            "[CV] END ......................max_depth=20, n_estimators=30; total time= 9.0min\n",
            "[CV] END ......................max_depth=20, n_estimators=30; total time= 9.0min\n",
            "[CV] END ......................max_depth=20, n_estimators=30; total time= 8.9min\n",
            "[CV] END ......................max_depth=30, n_estimators=10; total time= 3.7min\n",
            "[CV] END ......................max_depth=30, n_estimators=10; total time= 3.7min\n",
            "[CV] END ......................max_depth=30, n_estimators=10; total time= 3.7min\n",
            "[CV] END ......................max_depth=30, n_estimators=20; total time= 7.5min\n",
            "[CV] END ......................max_depth=30, n_estimators=20; total time= 7.4min\n",
            "[CV] END ......................max_depth=30, n_estimators=20; total time= 7.6min\n",
            "[CV] END ......................max_depth=30, n_estimators=30; total time=11.3min\n",
            "[CV] END ......................max_depth=30, n_estimators=30; total time=11.3min\n",
            "[CV] END ......................max_depth=30, n_estimators=30; total time=11.6min\n",
            "peak memory: 8596.03 MiB, increment: 6258.54 MiB\n",
            "CPU times: user 2h 54min 25s, sys: 29.3 s, total: 2h 54min 54s\n",
            "Wall time: 2h 54min 44s\n"
          ]
        },
        {
          "output_type": "execute_result",
          "data": {
            "text/plain": [
              "RandomForestRegressor(max_depth=20, n_estimators=30)"
            ]
          },
          "metadata": {},
          "execution_count": 10
        }
      ]
    },
    {
      "cell_type": "code",
      "source": [
        "%time %memit rf_tuned_predict=rf_model_tuned.predict(x_test)\n",
        "\n",
        "r24=r2_score(y_test,rf_tuned_predict)\n",
        "#mean2_err4=mean_squared_error(y_test,rf_tuned_predict)\n",
        "mean_abs_err4=mean_absolute_error(y_test,rf_tuned_predict)\n",
        "exp_variance4=explained_variance_score(y_test, rf_tuned_predict)\n",
        "print(\"R2 score: \",r24)\n",
        "#print(\"Mean Squared Error: \",mean2_err4)\n",
        "print(\"Mean Absolute Error: \", mean_abs_err4)\n",
        "print(\"Explained Variance Score: \",exp_variance)\n"
      ],
      "metadata": {
        "id": "08PkWQD3g0PX",
        "colab": {
          "base_uri": "https://localhost:8080/"
        },
        "outputId": "6765d686-56b7-435a-96b6-c3e703a55ccd"
      },
      "execution_count": 11,
      "outputs": [
        {
          "output_type": "stream",
          "name": "stdout",
          "text": [
            "peak memory: 5489.62 MiB, increment: 3.42 MiB\n",
            "CPU times: user 18.9 s, sys: 192 ms, total: 19 s\n",
            "Wall time: 19.3 s\n",
            "R2 score:  0.7887321270101084\n",
            "Mean Absolute Error:  1.8469542088136797\n",
            "Explained Variance Score:  0.6957378670993288\n"
          ]
        }
      ]
    },
    {
      "cell_type": "code",
      "source": [
        ""
      ],
      "metadata": {
        "id": "gIXBEhRXuIFq"
      },
      "execution_count": null,
      "outputs": []
    }
  ]
}